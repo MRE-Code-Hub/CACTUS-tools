{
 "cells": [
  {
   "cell_type": "markdown",
   "metadata": {},
   "source": [
    "# `pyCactus` Demo\n",
    "This notebook demonstrates the core functionality of the `pyCactus` post-processing module.\n",
    "\n",
    "Author: [Phillip Chiu](mailto:pchiu@sandia.gov)"
   ]
  },
  {
   "cell_type": "code",
   "execution_count": 1,
   "metadata": {
    "collapsed": false
   },
   "outputs": [
    {
     "data": {
      "text/html": [
       "\n",
       "<style type=\"text/css\">\n",
       "@import url('http://fonts.googleapis.com/css?family=Open+Sans');\n",
       "\n",
       "div.input {\n",
       "width: 105ex; /* about 80 chars + buffer */\n",
       "}\n",
       "\n",
       "div.text_cell {\n",
       "width: 60em; /* instead of 100%, */\n",
       "}\n",
       "\n",
       "div.text_cell_render {\n",
       "font-family: 'Open Sans', 'Computer Modern', 'Helvetica Neue', 'Arial', 'Helvetica', 'Geneva', sans-serif;\n",
       "line-height: 145%; /* added for some line spacing of text. */\n",
       "width: inherit; /* instead of 'inherit' for shorter lines */\n",
       "}\n",
       "\n",
       "/* Set the size of the headers */\n",
       "div.text_cell_render h1 {\n",
       "font-size: 20pt;\n",
       "font-weight: bold;\n",
       "}\n",
       "\n",
       "div.text_cell_render h2 {\n",
       "font-size: 18pt;\n",
       "}\n",
       "\n",
       "div.text_cell_render h3 {\n",
       "font-size: 16pt;\n",
       "}\n",
       "\n",
       "div.text_cell_render h4 {\n",
       "font-size: 14pt;\n",
       "}\n",
       "\n",
       ".CodeMirror {\n",
       "     font-family: Consolas, monospace;\n",
       "}\n",
       "\n",
       ".rendered_html ol {list-style:decimal; margin: 1em 2em;}\n",
       "\n",
       "/* Table of contents */\n",
       "div#toc-wrapper {\n",
       "    max-width: 300px\n",
       "}\n",
       "div#toc {\n",
       "    font-family: 'Open Sans', 'Computer Modern', 'Helvetica Neue', 'Arial', 'Helvetica', 'Geneva', sans-serif;\n",
       "}\n",
       "\n",
       "/* Code */\n",
       "code {\n",
       "    font-family: Consolas, monospace;\n",
       "}\n",
       "</style>\n"
      ],
      "text/plain": [
       "<IPython.core.display.HTML object>"
      ]
     },
     "execution_count": 1,
     "metadata": {},
     "output_type": "execute_result"
    }
   ],
   "source": [
    "# enable autoreload\n",
    "%load_ext autoreload\n",
    "%autoreload 2\n",
    "\n",
    "# set up plotting backend\n",
    "# %matplotlib nbagg\n",
    "%matplotlib inline\n",
    "\n",
    "import matplotlib\n",
    "import matplotlib.pyplot as plt\n",
    "\n",
    "# matplotlib.rcParams['figure.figsize'] = (14.0, 10.5)  # large figures\n",
    "matplotlib.rcParams['figure.figsize'] = (8, 6)         # medium figures\n",
    "matplotlib.rcParams.update({'font.size': 14})          # label size\n",
    "\n",
    "# set up paths\n",
    "import os\n",
    "import sys\n",
    "\n",
    "nb_root_dir = os.path.expanduser('~/Notebooks/')      # notebook root dir\n",
    "nb_dir_name = 'demo1'                                 # notebook work dir name\n",
    "nb_dir = os.path.abspath(os.path.join(nb_root_dir,\n",
    "                                      nb_dir_name))   # notebook work dir\n",
    "\n",
    "# create notebook dir if it doesn't exist\n",
    "if not os.path.exists(nb_dir):\n",
    "    os.makedirs(nb_dir)\n",
    "    \n",
    "sys.path.append(nb_dir) # append notebook work dir to pythonpath\n",
    "os.chdir(nb_dir)        # change path to notebook work dir\n",
    "\n",
    "# import commonly-used modules\n",
    "import math\n",
    "import numpy as np\n",
    "import pandas as pd\n",
    "import time as pytime\n",
    "\n",
    "# apply style (from external notebook)\n",
    "%run '~/Notebooks/style.ipynb'\n",
    "clean()"
   ]
  },
  {
   "cell_type": "markdown",
   "metadata": {},
   "source": [
    "Add the path to pyCactus and import."
   ]
  },
  {
   "cell_type": "code",
   "execution_count": 2,
   "metadata": {
    "collapsed": false
   },
   "outputs": [],
   "source": [
    "sys.path.append(nb_dir + '/CACTUS-tools/')\n",
    "import pyCactus"
   ]
  },
  {
   "cell_type": "markdown",
   "metadata": {},
   "source": [
    "## Creating a `CactusRun` instance\n",
    "The `CactusRun` reads and stores information about a single run. The path to the data files is specified when initializing the `CactusRun` instance. It can be instantiated as follows:"
   ]
  },
  {
   "cell_type": "code",
   "execution_count": 3,
   "metadata": {
    "collapsed": false
   },
   "outputs": [],
   "source": [
    "case_name  = 'NREL-5MW'\n",
    "run_dir    = os.path.join(nb_dir,'NREL-5MW-CACTUS')"
   ]
  },
  {
   "cell_type": "code",
   "execution_count": 4,
   "metadata": {
    "collapsed": false,
    "scrolled": false
   },
   "outputs": [
    {
     "name": "stdout",
     "output_type": "stream",
     "text": [
      "Read input namelist in 0.01 s\n",
      "Read geometry file in 0.01 s\n",
      "Read parameter data in 0.00 s\n",
      "Read revolution-averaged data in 0.00 s\n",
      "Read blade element data in 0.06 s\n",
      "Read time data in 0.01 s\n",
      "Read 20 wake element data headers in 0.00 s\n",
      "Read 20 wake element data headers in 0.00 s\n",
      "Read grid dimensions in 0.05 s\n",
      "Read 6 probe data file headers in 0.00 s\n",
      "\n",
      "Success: Loaded case `NREL-5MW` from path `/home/phil/Notebooks/demo1/NREL-5MW-CACTUS`\n",
      "\n",
      "Time to instantiante CactusRun class: 0.17 s\n"
     ]
    }
   ],
   "source": [
    "tic = pytime.time()\n",
    "geom_fname = 'NREL-5MW.geom'\n",
    "run = pyCactus.CactusRun(run_dir, case_name,\n",
    "                         geom_fname=geom_fname,\n",
    "                         wakeelem_fnames_pattern='*WakeData_*.csv',\n",
    "                         field_fnames_pattern='*WakeDefData_*.csv')\n",
    "print 'Time to instantiante CactusRun class: %2.2f s' % (pytime.time() - tic)"
   ]
  },
  {
   "cell_type": "markdown",
   "metadata": {},
   "source": [
    "On instantiation, the `CactusRun` class loads the geometry file along with the time data, blade element data, and revolution-averaged data. It also parses the first line of each of the wake grid and wake node `.csv` files to determine the output times.\n",
    "\n",
    "The time, element, and revolution data are stored as Pandas dataframes. In order to reduce both memory usage and the time for class instantiation, data is only read from wake element and field data files (which may be very large) when needed."
   ]
  },
  {
   "cell_type": "markdown",
   "metadata": {},
   "source": [
    "## Geometry data\n",
    "The geometry data can be accessed easily by calling the `CactusRun.geom` attribute, which is an instance of the `CactusGeom` class.\n",
    "\n",
    "The geometry data is stored in the `globalvars`, `blades`, and `struts` attributes."
   ]
  },
  {
   "cell_type": "code",
   "execution_count": 5,
   "metadata": {
    "collapsed": false
   },
   "outputs": [
    {
     "data": {
      "text/plain": [
       "{'NBlade': [3],\n",
       " 'NStrut': [0],\n",
       " 'RefAR': array([ 3.14159]),\n",
       " 'RefR': array([ 206.693]),\n",
       " 'RotN': array([ 1.,  0.,  0.]),\n",
       " 'RotP': array([ 0.,  0.,  0.]),\n",
       " 'Type': ' HAWT'}"
      ]
     },
     "execution_count": 5,
     "metadata": {},
     "output_type": "execute_result"
    }
   ],
   "source": [
    "run.geom.globalvars"
   ]
  },
  {
   "cell_type": "markdown",
   "metadata": {},
   "source": [
    "The `blades` and `struts` are lists of variable dictionaries, enumerated by blade number and strut number."
   ]
  },
  {
   "cell_type": "code",
   "execution_count": 6,
   "metadata": {
    "collapsed": false
   },
   "outputs": [
    {
     "data": {
      "text/plain": [
       "['ECtoR',\n",
       " 'nEz',\n",
       " 'nEx',\n",
       " 'nEy',\n",
       " 'tz',\n",
       " 'PEy',\n",
       " 'PEz',\n",
       " 'ty',\n",
       " 'QCz',\n",
       " 'QCy',\n",
       " 'QCx',\n",
       " 'iSect',\n",
       " 'EAreaR',\n",
       " 'NElem',\n",
       " 'dr_over_R',\n",
       " 'r_over_R_elem',\n",
       " 'FlipN',\n",
       " 'PEx',\n",
       " 'CtoR',\n",
       " 'tx',\n",
       " 'Blade 1',\n",
       " 'sEz',\n",
       " 'sEy',\n",
       " 'sEx',\n",
       " 'tEx',\n",
       " 'tEy',\n",
       " 'tEz']"
      ]
     },
     "execution_count": 6,
     "metadata": {},
     "output_type": "execute_result"
    }
   ],
   "source": [
    "blade_num = 0\n",
    "run.geom.blades[blade_num].keys()"
   ]
  },
  {
   "cell_type": "markdown",
   "metadata": {},
   "source": [
    "## Accessing time, revolution-averaged, and blade element data\n",
    "Time, blade element, and revolution data can be accessed using the appropriate variables names:\n",
    "\n",
    "- `CactusRun.time_data`\n",
    "- `CactusRun.elem_data`\n",
    "- `CactusRun.rev_data`\n",
    "\n",
    "Each returns a Pandas dataframe whose column names are shown below."
   ]
  },
  {
   "cell_type": "markdown",
   "metadata": {},
   "source": [
    "### Time data"
   ]
  },
  {
   "cell_type": "markdown",
   "metadata": {},
   "source": [
    "The column names for the time data are shown below."
   ]
  },
  {
   "cell_type": "code",
   "execution_count": 7,
   "metadata": {
    "collapsed": false
   },
   "outputs": [
    {
     "data": {
      "text/plain": [
       "Index([u'Normalized Time (-)', u'Theta (rad)', u'Rev', u'Torque Coeff. (-)',\n",
       "       u'Power Coeff. (-)', u'Fx Coeff. (-)', u'Fy Coeff. (-)',\n",
       "       u'Fz Coeff. (-)', u'Blade Fx Coeff. (-)', u'Blade Fy Coeff. (-)',\n",
       "       u'Blade Fz Coeff. (-)', u'Blade Torque Coeff. (-)',\n",
       "       u'Blade Fx Coeff. (-).1', u'Blade Fy Coeff. (-).1',\n",
       "       u'Blade Fz Coeff. (-).1', u'Blade Torque Coeff. (-).1',\n",
       "       u'Blade Fx Coeff. (-).2', u'Blade Fy Coeff. (-).2',\n",
       "       u'Blade Fz Coeff. (-).2', u'Blade Torque Coeff. (-).2'],\n",
       "      dtype='object')"
      ]
     },
     "execution_count": 7,
     "metadata": {},
     "output_type": "execute_result"
    }
   ],
   "source": [
    "run.time_data.columns"
   ]
  },
  {
   "cell_type": "markdown",
   "metadata": {},
   "source": [
    "It is easy to plot this data. Here we use the built-in plotting feature of the Pandas dataframe, but this could also be done with NumPy."
   ]
  },
  {
   "cell_type": "code",
   "execution_count": 8,
   "metadata": {
    "collapsed": false
   },
   "outputs": [
    {
     "data": {
      "text/plain": [
       "<matplotlib.figure.Figure at 0x7fe0d02ae0d0>"
      ]
     },
     "metadata": {},
     "output_type": "display_data"
    },
    {
     "data": {
      "image/png": "[encoded data removed]",
      "text/plain": [
       "<matplotlib.figure.Figure at 0x7fe0affb1210>"
      ]
     },
     "metadata": {},
     "output_type": "display_data"
    }
   ],
   "source": [
    "plt.figure()\n",
    "run.time_data.plot(x='Normalized Time (-)',y='Power Coeff. (-)',\n",
    "                   marker='o')\n",
    "plt.grid(True)"
   ]
  },
  {
   "cell_type": "markdown",
   "metadata": {},
   "source": [
    "### Revolution-averaged data"
   ]
  },
  {
   "cell_type": "markdown",
   "metadata": {},
   "source": [
    "The column names for the revolution-averaged data are shown below."
   ]
  },
  {
   "cell_type": "code",
   "execution_count": 9,
   "metadata": {
    "collapsed": false,
    "scrolled": true
   },
   "outputs": [
    {
     "data": {
      "text/plain": [
       "Index([u'Rev', u'Power Coeff. (-)', u'Tip Power Coeff. (-)',\n",
       "       u'Torque Coeff. (-)', u'Fx Coeff. (-)', u'Fy Coeff. (-)',\n",
       "       u'Fz Coeff. (-)', u'Power (kW)', u'Torque (ft-lbs)'],\n",
       "      dtype='object')"
      ]
     },
     "execution_count": 9,
     "metadata": {},
     "output_type": "execute_result"
    }
   ],
   "source": [
    "run.rev_data.columns"
   ]
  },
  {
   "cell_type": "markdown",
   "metadata": {},
   "source": [
    "As with the time data, this can be easily plotted."
   ]
  },
  {
   "cell_type": "code",
   "execution_count": 10,
   "metadata": {
    "collapsed": false
   },
   "outputs": [
    {
     "data": {
      "text/plain": [
       "<matplotlib.figure.Figure at 0x7fe0ae2b6b50>"
      ]
     },
     "metadata": {},
     "output_type": "display_data"
    },
    {
     "data": {
      "image/png": "[encoded data removed]",
      "text/plain": [
       "<matplotlib.figure.Figure at 0x7fe0affb1390>"
      ]
     },
     "metadata": {},
     "output_type": "display_data"
    }
   ],
   "source": [
    "plt.figure()\n",
    "run.rev_data.plot(x='Rev',y='Fx Coeff. (-)',\n",
    "                   marker='o')\n",
    "plt.grid(True)"
   ]
  },
  {
   "cell_type": "markdown",
   "metadata": {},
   "source": [
    "### Blade element data"
   ]
  },
  {
   "cell_type": "markdown",
   "metadata": {},
   "source": [
    "The column names for the blade element data are shown below."
   ]
  },
  {
   "cell_type": "code",
   "execution_count": 11,
   "metadata": {
    "collapsed": false
   },
   "outputs": [
    {
     "data": {
      "text/plain": [
       "Index([u'Normalized Time (-)', u'Theta (rad)', u'Blade', u'Element', u'Rev',\n",
       "       u'x/R (-)', u'y/R (-)', u'z/R (-)', u'AOA25 (deg)', u'AOA50 (deg)',\n",
       "       u'AOA75 (deg)', u'AdotNorm (-)', u'Re (-)', u'Mach (-)', u'Ur (-)',\n",
       "       u'IndU (-)', u'IndV (-)', u'IndW (-)', u'GB (?)', u'CL (-)', u'CD (-)',\n",
       "       u'CM25 (-)', u'CLCirc (-)', u'CN (-)', u'CT (-)', u'Fx (-)', u'Fy (-)',\n",
       "       u'Fz (-)', u'te (-)'],\n",
       "      dtype='object')"
      ]
     },
     "execution_count": 11,
     "metadata": {},
     "output_type": "execute_result"
    }
   ],
   "source": [
    "run.bladeelem_data.data.columns"
   ]
  },
  {
   "cell_type": "markdown",
   "metadata": {},
   "source": [
    "This data can also be plotted easily. We can extract the blade data at a particular time index by calling `CactusRun.blade_data_at_time_index()`.\n",
    "\n",
    "For horizontal axis wind turbines, it is often desirable to plot a blade quantity against the distance from the rotation axis. This is demonstrated here using data from the `CactusRun.geom` instance."
   ]
  },
  {
   "cell_type": "code",
   "execution_count": 12,
   "metadata": {
    "collapsed": false
   },
   "outputs": [
    {
     "data": {
      "image/png": "[encoded data removed]",
      "text/plain": [
       "<matplotlib.figure.Figure at 0x7fe0ae384810>"
      ]
     },
     "metadata": {},
     "output_type": "display_data"
    }
   ],
   "source": [
    "blade_num = 0\n",
    "\n",
    "# get the blade data at the final time index\n",
    "time, dfs_blade = run.bladeelem_data.data_at_time_index(time_index=-1)\n",
    "\n",
    "plt.figure()\n",
    "plt.plot(run.geom.blades[blade_num]['r_over_R_elem'],\n",
    "         dfs_blade[blade_num]['CT (-)'])\n",
    "plt.grid(True)\n",
    "plt.xlabel('r_over_R_elem')\n",
    "plt.ylabel('CT (-)')\n",
    "plt.show()"
   ]
  },
  {
   "cell_type": "markdown",
   "metadata": {},
   "source": [
    "The blade data can also be time-averaged over specified timesteps. In the following example, we average over the last 5 timesteps."
   ]
  },
  {
   "cell_type": "code",
   "execution_count": 13,
   "metadata": {
    "collapsed": false
   },
   "outputs": [
    {
     "data": {
      "text/plain": [
       "[-5, -4, -3, -2, -1]"
      ]
     },
     "execution_count": 13,
     "metadata": {},
     "output_type": "execute_result"
    }
   ],
   "source": [
    "timesteps = range(-5,0)\n",
    "CT_averaged = run.bladeelem_data.data_time_average('CT (-)', timesteps, 1)\n",
    "\n",
    "timesteps"
   ]
  },
  {
   "cell_type": "code",
   "execution_count": 14,
   "metadata": {
    "collapsed": false
   },
   "outputs": [
    {
     "data": {
      "image/png": "[encoded data removed]",
      "text/plain": [
       "<matplotlib.figure.Figure at 0x7fe0ae2453d0>"
      ]
     },
     "metadata": {},
     "output_type": "display_data"
    }
   ],
   "source": [
    "plt.figure()\n",
    "plt.plot(run.geom.blades[blade_num]['r_over_R_elem'],\n",
    "         CT_averaged)\n",
    "plt.grid(True)\n",
    "plt.xlabel('r_over_R_elem')\n",
    "plt.ylabel('CT (-)')\n",
    "plt.show()"
   ]
  },
  {
   "cell_type": "markdown",
   "metadata": {},
   "source": [
    "## Accessing wake element and field data\n",
    "Due to their potentially large file sizes, wake element and field data are accessed differently than the above data -- the entire data file is never loaded into memory."
   ]
  },
  {
   "cell_type": "markdown",
   "metadata": {},
   "source": [
    "### Wake element data"
   ]
  },
  {
   "cell_type": "markdown",
   "metadata": {},
   "source": [
    "#### Viewing times"
   ]
  },
  {
   "cell_type": "markdown",
   "metadata": {},
   "source": [
    "The times at which we have wake element data can be easily viewed."
   ]
  },
  {
   "cell_type": "code",
   "execution_count": 15,
   "metadata": {
    "collapsed": false
   },
   "outputs": [
    {
     "data": {
      "text/plain": [
       "20"
      ]
     },
     "execution_count": 15,
     "metadata": {},
     "output_type": "execute_result"
    }
   ],
   "source": [
    "run.wakeelems.num_times"
   ]
  },
  {
   "cell_type": "code",
   "execution_count": 16,
   "metadata": {
    "collapsed": false
   },
   "outputs": [
    {
     "data": {
      "text/plain": [
       "array([ 0.       ,  0.2080525,  0.416105 ,  0.6241575,  0.83221  ,\n",
       "        1.040262 ,  1.248315 ,  1.456367 ,  1.66442  ,  1.872472 ,\n",
       "        2.080525 ,  2.288577 ,  2.49663  ,  2.704682 ,  2.912735 ,\n",
       "        3.120787 ,  3.32884  ,  3.536892 ,  3.744945 ,  3.952997 ])"
      ]
     },
     "execution_count": 16,
     "metadata": {},
     "output_type": "execute_result"
    }
   ],
   "source": [
    "run.wakeelems.times"
   ]
  },
  {
   "cell_type": "markdown",
   "metadata": {},
   "source": [
    "#### Extracting data to NumPy arrays\n",
    "A dataframe containing data at a particular timestep can be extracted using the method `CactusWakeElem.get_df_inst()`. This returns a dictionary containing variables names and their values as NumPy arrays."
   ]
  },
  {
   "cell_type": "code",
   "execution_count": 17,
   "metadata": {
    "collapsed": false
   },
   "outputs": [],
   "source": [
    "# Get dataframe for a specific time\n",
    "ti = 5\n",
    "wake_df_inst = run.wakeelems.get_df_inst(time=run.wakeelems.times[ti])\n",
    "wake_df_inst.head()\n",
    "\n",
    "# extract variables\n",
    "wakeelemdata, has_node_ids = run.wakeelems.wakedata_from_df(wake_df_inst)"
   ]
  },
  {
   "cell_type": "code",
   "execution_count": 18,
   "metadata": {
    "collapsed": false
   },
   "outputs": [
    {
     "data": {
      "text/plain": [
       "['node_ids', 'elems', 'u', 'w', 'v', 'y', 'x', 'z']"
      ]
     },
     "execution_count": 18,
     "metadata": {},
     "output_type": "execute_result"
    }
   ],
   "source": [
    "wakeelemdata.keys()"
   ]
  },
  {
   "cell_type": "markdown",
   "metadata": {},
   "source": [
    "The second return is a flag which indicates whether the wake element data files have a `node_id` column. (For compatibility with data generated by versions of CACTUS)."
   ]
  },
  {
   "cell_type": "code",
   "execution_count": 19,
   "metadata": {
    "collapsed": false,
    "scrolled": true
   },
   "outputs": [
    {
     "data": {
      "text/plain": [
       "True"
      ]
     },
     "execution_count": 19,
     "metadata": {},
     "output_type": "execute_result"
    }
   ],
   "source": [
    "has_node_ids"
   ]
  },
  {
   "cell_type": "markdown",
   "metadata": {},
   "source": [
    "#### Writing to VTK"
   ]
  },
  {
   "cell_type": "markdown",
   "metadata": {},
   "source": [
    "The wake element data can be written to a VTK file to facilitate post-processing with ParaView or other tools. To do this, we can use the `CactusWakeElems.write_vtk_series()` method. This writes a series of VTK files, and a `.pvd` collection file which can be read into ParaView directly as a time series."
   ]
  },
  {
   "cell_type": "code",
   "execution_count": 20,
   "metadata": {
    "collapsed": false
   },
   "outputs": [
    {
     "data": {
      "text/plain": [
       "(['/home/phil/Notebooks/demo1/vtk/wakenode_name_0.vtu',\n",
       "  '/home/phil/Notebooks/demo1/vtk/wakenode_name_1.vtu',\n",
       "  '/home/phil/Notebooks/demo1/vtk/wakenode_name_2.vtu',\n",
       "  '/home/phil/Notebooks/demo1/vtk/wakenode_name_3.vtu',\n",
       "  '/home/phil/Notebooks/demo1/vtk/wakenode_name_4.vtu',\n",
       "  '/home/phil/Notebooks/demo1/vtk/wakenode_name_5.vtu',\n",
       "  '/home/phil/Notebooks/demo1/vtk/wakenode_name_6.vtu',\n",
       "  '/home/phil/Notebooks/demo1/vtk/wakenode_name_7.vtu',\n",
       "  '/home/phil/Notebooks/demo1/vtk/wakenode_name_8.vtu',\n",
       "  '/home/phil/Notebooks/demo1/vtk/wakenode_name_9.vtu',\n",
       "  '/home/phil/Notebooks/demo1/vtk/wakenode_name_10.vtu',\n",
       "  '/home/phil/Notebooks/demo1/vtk/wakenode_name_11.vtu',\n",
       "  '/home/phil/Notebooks/demo1/vtk/wakenode_name_12.vtu',\n",
       "  '/home/phil/Notebooks/demo1/vtk/wakenode_name_13.vtu',\n",
       "  '/home/phil/Notebooks/demo1/vtk/wakenode_name_14.vtu',\n",
       "  '/home/phil/Notebooks/demo1/vtk/wakenode_name_15.vtu',\n",
       "  '/home/phil/Notebooks/demo1/vtk/wakenode_name_16.vtu',\n",
       "  '/home/phil/Notebooks/demo1/vtk/wakenode_name_17.vtu',\n",
       "  '/home/phil/Notebooks/demo1/vtk/wakenode_name_18.vtu',\n",
       "  '/home/phil/Notebooks/demo1/vtk/wakenode_name_19.vtu'],\n",
       " '/home/phil/Notebooks/demo1/vtk/wakenode_name.pvd')"
      ]
     },
     "execution_count": 20,
     "metadata": {},
     "output_type": "execute_result"
    }
   ],
   "source": [
    "wakeelem_output_path = os.path.join(nb_dir,'vtk')\n",
    "run.wakeelems.write_vtk_series(wakeelem_output_path,\n",
    "                               'wakenode_name',\n",
    "                               print_status=False)"
   ]
  },
  {
   "cell_type": "markdown",
   "metadata": {},
   "source": [
    "### Field data"
   ]
  },
  {
   "cell_type": "markdown",
   "metadata": {},
   "source": [
    "#### Viewing times"
   ]
  },
  {
   "cell_type": "code",
   "execution_count": 21,
   "metadata": {
    "collapsed": false
   },
   "outputs": [
    {
     "data": {
      "text/plain": [
       "20"
      ]
     },
     "execution_count": 21,
     "metadata": {},
     "output_type": "execute_result"
    }
   ],
   "source": [
    "run.wakeelems.num_times"
   ]
  },
  {
   "cell_type": "code",
   "execution_count": 22,
   "metadata": {
    "collapsed": false,
    "scrolled": true
   },
   "outputs": [
    {
     "data": {
      "text/plain": [
       "array([ 0.       ,  0.2080525,  0.416105 ,  0.6241575,  0.83221  ,\n",
       "        1.040262 ,  1.248315 ,  1.456367 ,  1.66442  ,  1.872472 ,\n",
       "        2.080525 ,  2.288577 ,  2.49663  ,  2.704682 ,  2.912735 ,\n",
       "        3.120787 ,  3.32884  ,  3.536892 ,  3.744945 ,  3.952997 ])"
      ]
     },
     "execution_count": 22,
     "metadata": {},
     "output_type": "execute_result"
    }
   ],
   "source": [
    "run.field.times"
   ]
  },
  {
   "cell_type": "markdown",
   "metadata": {},
   "source": [
    "#### Extracting data to NumPy arrays\n",
    "A dataframe containing data at a particular timestep can be extracted using the method `CactusField.get_df_inst()`. This returns a dictionary containing variables names and their values as NumPy arrays."
   ]
  },
  {
   "cell_type": "code",
   "execution_count": 23,
   "metadata": {
    "collapsed": false
   },
   "outputs": [],
   "source": [
    "# Get dataframe for a specific time\n",
    "ti = 5\n",
    "field_df_inst = run.field.get_df_inst(time=run.wakeelems.times[ti])\n",
    "field_df_inst.head()\n",
    "\n",
    "# extract variables\n",
    "fielddata, fielddims = run.field.fielddata_from_df(field_df_inst)"
   ]
  },
  {
   "cell_type": "code",
   "execution_count": 24,
   "metadata": {
    "collapsed": false
   },
   "outputs": [
    {
     "data": {
      "text/plain": [
       "['Ufs', 'Wfs', 'U', 'W', 'V', 'Y', 'X', 'Z', 'Vfs']"
      ]
     },
     "execution_count": 24,
     "metadata": {},
     "output_type": "execute_result"
    }
   ],
   "source": [
    "fielddata.keys()"
   ]
  },
  {
   "cell_type": "markdown",
   "metadata": {},
   "source": [
    "The second return is a dictionary of the field dimensions."
   ]
  },
  {
   "cell_type": "code",
   "execution_count": 25,
   "metadata": {
    "collapsed": false
   },
   "outputs": [
    {
     "data": {
      "text/plain": [
       "{'dx': 0.0,\n",
       " 'dy': 0.040000000000000001,\n",
       " 'dz': 0.040000000000000001,\n",
       " 'nx': 1,\n",
       " 'ny': 100,\n",
       " 'nz': 100,\n",
       " 'xlim': [0.0, 0.0],\n",
       " 'ylim': [-2.0, 2.0],\n",
       " 'zlim': [-2.0, 2.0]}"
      ]
     },
     "execution_count": 25,
     "metadata": {},
     "output_type": "execute_result"
    }
   ],
   "source": [
    "fielddims"
   ]
  },
  {
   "cell_type": "markdown",
   "metadata": {},
   "source": [
    "The dimensions of the returned arrays match the grid dimensions."
   ]
  },
  {
   "cell_type": "code",
   "execution_count": 26,
   "metadata": {
    "collapsed": false
   },
   "outputs": [
    {
     "data": {
      "text/plain": [
       "(100, 100, 1)"
      ]
     },
     "execution_count": 26,
     "metadata": {},
     "output_type": "execute_result"
    }
   ],
   "source": [
    "fielddata['U'].shape"
   ]
  },
  {
   "cell_type": "markdown",
   "metadata": {},
   "source": [
    "#### Time series at a specific location on the Cartesian grid\n",
    "Data at a specific location can be extracted. This operation may take some time, since it loops through all the data files."
   ]
  },
  {
   "cell_type": "code",
   "execution_count": 27,
   "metadata": {
    "collapsed": false
   },
   "outputs": [
    {
     "name": "stdout",
     "output_type": "stream",
     "text": [
      "Time to produce series: 0.70 s\n",
      "[(0.0, 0.50505048, 0.50505048), (0.0, -0.02020202, -0.02020202)]\n"
     ]
    }
   ],
   "source": [
    "# enter a list of point coordinates\n",
    "point_list = [(0.0, 0.5, 0.5),\n",
    "              (1.0, 0.0, 0.0)]\n",
    "\n",
    "tic = pytime.time()\n",
    "timeseries_dict, nearest_points = run.field.pointdata_time_series(point_list, ti_start=0, ti_end=-1)\n",
    "print 'Time to produce series: %2.2f s' % (pytime.time() - tic)\n",
    "\n",
    "print nearest_points"
   ]
  },
  {
   "cell_type": "code",
   "execution_count": 28,
   "metadata": {
    "collapsed": false
   },
   "outputs": [],
   "source": [
    "# extract the data\n",
    "t   = timeseries_dict['t']\n",
    "u   = timeseries_dict['u']\n",
    "v   = timeseries_dict['v']\n",
    "w   = timeseries_dict['w']\n",
    "ufs = timeseries_dict['ufs']\n",
    "vfs = timeseries_dict['vfs']\n",
    "wfs = timeseries_dict['wfs']"
   ]
  },
  {
   "cell_type": "code",
   "execution_count": 29,
   "metadata": {
    "collapsed": false
   },
   "outputs": [
    {
     "name": "stdout",
     "output_type": "stream",
     "text": [
      "[ 0.         0.2080525  0.416105   0.6241575  0.83221    1.040262   1.248315\n",
      "  1.456367   1.66442    1.872472   2.080525   2.288577   2.49663    2.704682\n",
      "  2.912735   3.120787   3.32884    3.536892   3.744945 ]\n"
     ]
    },
    {
     "data": {
      "image/png": "[encoded data removed]",
      "text/plain": [
       "<matplotlib.figure.Figure at 0x7fe0ae1c1cd0>"
      ]
     },
     "metadata": {},
     "output_type": "display_data"
    }
   ],
   "source": [
    "point_id = 1\n",
    "\n",
    "print t\n",
    "# plot the data at the point_id'th point\n",
    "plt.figure()\n",
    "plt.plot(t, u[point_id,:], label='$u$', lw=2)\n",
    "plt.plot(t, v[point_id,:], label='$v$', lw=2)\n",
    "plt.plot(t, w[point_id,:], label='$w$', lw=2)\n",
    "\n",
    "plt.title('Time series')\n",
    "plt.xlabel('non-dimensionalized time, $t^*$')\n",
    "plt.ylabel('non-dimensionalized velocity')\n",
    "plt.legend(loc='best')\n",
    "\n",
    "plt.grid(True)\n",
    "plt.tight_layout()\n",
    "plt.show()"
   ]
  },
  {
   "cell_type": "markdown",
   "metadata": {},
   "source": [
    "#### Field averaging\n",
    "We can time average the field data using the `CactusField.field_time_average()` method. This returns a dictionary containing the averaged data."
   ]
  },
  {
   "cell_type": "code",
   "execution_count": 30,
   "metadata": {
    "collapsed": false,
    "scrolled": true
   },
   "outputs": [
    {
     "name": "stdout",
     "output_type": "stream",
     "text": [
      "Time to average fields: 0.19 s\n"
     ]
    }
   ],
   "source": [
    "tic = pytime.time()\n",
    "\n",
    "averaged_data = run.field.field_time_average(ti_start=-5,\n",
    "                                             ti_end=-1)\n",
    "\n",
    "print 'Time to average fields: %2.2f s' % (pytime.time() - tic)"
   ]
  },
  {
   "cell_type": "code",
   "execution_count": 31,
   "metadata": {
    "collapsed": false
   },
   "outputs": [
    {
     "name": "stdout",
     "output_type": "stream",
     "text": [
      "['Ufs', 'U', 't', 'W', 'V', 'Y', 'X', 'Z', 'Vfs', 'Wfs']\n"
     ]
    }
   ],
   "source": [
    "print averaged_data.keys()"
   ]
  },
  {
   "cell_type": "markdown",
   "metadata": {},
   "source": [
    "The `t` field gives the normalized times which were averaged."
   ]
  },
  {
   "cell_type": "code",
   "execution_count": 32,
   "metadata": {
    "collapsed": false
   },
   "outputs": [
    {
     "name": "stdout",
     "output_type": "stream",
     "text": [
      "[ 3.120787  3.32884   3.536892  3.744945]\n"
     ]
    }
   ],
   "source": [
    "print averaged_data['t']"
   ]
  },
  {
   "cell_type": "markdown",
   "metadata": {},
   "source": [
    "The averaged data may be plotted."
   ]
  },
  {
   "cell_type": "code",
   "execution_count": 33,
   "metadata": {
    "collapsed": false
   },
   "outputs": [
    {
     "data": {
      "image/png": "[encoded data removed]",
      "text/plain": [
       "<matplotlib.figure.Figure at 0x7fe0ad6caad0>"
      ]
     },
     "metadata": {},
     "output_type": "display_data"
    }
   ],
   "source": [
    "import matplotlib.cm as cm\n",
    "\n",
    "# Get the data\n",
    "X   = averaged_data['X']\n",
    "Y   = averaged_data['Y']\n",
    "Z   = averaged_data['Z']\n",
    "U   = averaged_data['U']\n",
    "V   = averaged_data['V']\n",
    "W   = averaged_data['W']\n",
    "Ufs = averaged_data['Ufs']\n",
    "Vfs = averaged_data['Vfs']\n",
    "Wfs = averaged_data['Wfs']\n",
    "\n",
    "# Reshape to 2D\n",
    "ny = run.field.grid_dims['ny']\n",
    "nz = run.field.grid_dims['nz']\n",
    "\n",
    "X   = np.reshape(X, [ny, nz])\n",
    "Y   = np.reshape(Y, [ny, nz])\n",
    "Z   = np.reshape(Z, [ny, nz])\n",
    "U   = np.reshape(U, [ny, nz])\n",
    "V   = np.reshape(V, [ny, nz])\n",
    "W   = np.reshape(W, [ny, nz])\n",
    "Ufs = np.reshape(Ufs, [ny, nz])\n",
    "Vfs = np.reshape(Vfs, [ny, nz])\n",
    "Wfs = np.reshape(Wfs, [ny, nz])\n",
    "\n",
    "# u\n",
    "fig = plt.figure()\n",
    "ax = fig.add_subplot(111)\n",
    "cax = ax.contourf(Y,Z,U+Ufs,128,cmap=cm.coolwarm)\n",
    "fig.colorbar(cax)\n",
    "ax.axis('image')\n",
    "ax.set_title('$U/U_{\\infty}$, time-averaged')\n",
    "ax.set_xlabel('$x/R$')\n",
    "ax.set_ylabel('$y/R$')\n",
    "\n",
    "plt.show()"
   ]
  },
  {
   "cell_type": "markdown",
   "metadata": {},
   "source": [
    "#### Writing to VTK file\n",
    "As with the wake element data, the field data can also be written to VTK files, using the `CactusField.write_vtk_series()` method. This writes a series of structured VTK files (`.vts`), and a `.pvd` collection file which can be read into ParaView directly as a time series."
   ]
  },
  {
   "cell_type": "code",
   "execution_count": 34,
   "metadata": {
    "collapsed": false
   },
   "outputs": [
    {
     "data": {
      "text/plain": [
       "(['/home/phil/Notebooks/demo1/vtk/field_0.vts',\n",
       "  '/home/phil/Notebooks/demo1/vtk/field_1.vts',\n",
       "  '/home/phil/Notebooks/demo1/vtk/field_2.vts',\n",
       "  '/home/phil/Notebooks/demo1/vtk/field_3.vts',\n",
       "  '/home/phil/Notebooks/demo1/vtk/field_4.vts',\n",
       "  '/home/phil/Notebooks/demo1/vtk/field_5.vts',\n",
       "  '/home/phil/Notebooks/demo1/vtk/field_6.vts',\n",
       "  '/home/phil/Notebooks/demo1/vtk/field_7.vts',\n",
       "  '/home/phil/Notebooks/demo1/vtk/field_8.vts',\n",
       "  '/home/phil/Notebooks/demo1/vtk/field_9.vts',\n",
       "  '/home/phil/Notebooks/demo1/vtk/field_10.vts',\n",
       "  '/home/phil/Notebooks/demo1/vtk/field_11.vts',\n",
       "  '/home/phil/Notebooks/demo1/vtk/field_12.vts',\n",
       "  '/home/phil/Notebooks/demo1/vtk/field_13.vts',\n",
       "  '/home/phil/Notebooks/demo1/vtk/field_14.vts',\n",
       "  '/home/phil/Notebooks/demo1/vtk/field_15.vts',\n",
       "  '/home/phil/Notebooks/demo1/vtk/field_16.vts',\n",
       "  '/home/phil/Notebooks/demo1/vtk/field_17.vts',\n",
       "  '/home/phil/Notebooks/demo1/vtk/field_18.vts',\n",
       "  '/home/phil/Notebooks/demo1/vtk/field_19.vts'],\n",
       " '/home/phil/Notebooks/demo1/vtk/field.pvd')"
      ]
     },
     "execution_count": 34,
     "metadata": {},
     "output_type": "execute_result"
    }
   ],
   "source": [
    "field_output_path    = os.path.join(nb_dir,'vtk')\n",
    "run.field.write_vtk_series(field_output_path,\n",
    "                           'field',\n",
    "                           print_status=False)"
   ]
  },
  {
   "cell_type": "markdown",
   "metadata": {},
   "source": [
    "## Probe data"
   ]
  },
  {
   "cell_type": "markdown",
   "metadata": {},
   "source": [
    "The `CactusRun.probe` attribute is an instance of the `CactusProbe` class. We can check the number of probes and their locations."
   ]
  },
  {
   "cell_type": "code",
   "execution_count": 35,
   "metadata": {
    "collapsed": false
   },
   "outputs": [
    {
     "data": {
      "text/plain": [
       "6"
      ]
     },
     "execution_count": 35,
     "metadata": {},
     "output_type": "execute_result"
    }
   ],
   "source": [
    "run.probes.num_probes"
   ]
  },
  {
   "cell_type": "code",
   "execution_count": 36,
   "metadata": {
    "collapsed": false
   },
   "outputs": [
    {
     "data": {
      "text/plain": [
       "{0: (0.0, 0.0, 0.0),\n",
       " 1: (1.0, 0.0, 0.0),\n",
       " 2: (2.0, 0.0, 0.0),\n",
       " 3: (3.0, 0.0, 0.0),\n",
       " 4: (4.0, 0.0, 0.0),\n",
       " 5: (5.0, 0.0, 0.0)}"
      ]
     },
     "execution_count": 36,
     "metadata": {},
     "output_type": "execute_result"
    }
   ],
   "source": [
    "run.probes.locations"
   ]
  },
  {
   "cell_type": "markdown",
   "metadata": {},
   "source": [
    "We can also extract the probe data using `get_probe_data_by_id()`."
   ]
  },
  {
   "cell_type": "code",
   "execution_count": 37,
   "metadata": {
    "collapsed": false
   },
   "outputs": [
    {
     "data": {
      "text/html": [
       "<div>\n",
       "<table border=\"1\" class=\"dataframe\">\n",
       "  <thead>\n",
       "    <tr style=\"text-align: right;\">\n",
       "      <th></th>\n",
       "      <th>Normalized Time (-)</th>\n",
       "      <th>U/Uinf (-)</th>\n",
       "      <th>V/Uinf (-)</th>\n",
       "      <th>W/Uinf (-)</th>\n",
       "      <th>Ufs/Uinf (-)</th>\n",
       "      <th>Vfs/Uinf (-)</th>\n",
       "      <th>Wfs/Uinf (-)</th>\n",
       "    </tr>\n",
       "  </thead>\n",
       "  <tbody>\n",
       "    <tr>\n",
       "      <th>0</th>\n",
       "      <td>0.000000</td>\n",
       "      <td>0.000288</td>\n",
       "      <td>3.685064e-09</td>\n",
       "      <td>-2.268072e-09</td>\n",
       "      <td>1</td>\n",
       "      <td>0</td>\n",
       "      <td>0</td>\n",
       "    </tr>\n",
       "    <tr>\n",
       "      <th>1</th>\n",
       "      <td>0.041611</td>\n",
       "      <td>-0.004127</td>\n",
       "      <td>-1.330602e-09</td>\n",
       "      <td>1.217035e-09</td>\n",
       "      <td>1</td>\n",
       "      <td>0</td>\n",
       "      <td>0</td>\n",
       "    </tr>\n",
       "    <tr>\n",
       "      <th>2</th>\n",
       "      <td>0.083221</td>\n",
       "      <td>-0.007950</td>\n",
       "      <td>1.282547e-09</td>\n",
       "      <td>5.536929e-10</td>\n",
       "      <td>1</td>\n",
       "      <td>0</td>\n",
       "      <td>0</td>\n",
       "    </tr>\n",
       "    <tr>\n",
       "      <th>3</th>\n",
       "      <td>0.124832</td>\n",
       "      <td>-0.012012</td>\n",
       "      <td>4.207945e-10</td>\n",
       "      <td>3.674458e-10</td>\n",
       "      <td>1</td>\n",
       "      <td>0</td>\n",
       "      <td>0</td>\n",
       "    </tr>\n",
       "    <tr>\n",
       "      <th>4</th>\n",
       "      <td>0.166442</td>\n",
       "      <td>-0.016445</td>\n",
       "      <td>6.160830e-10</td>\n",
       "      <td>5.428379e-10</td>\n",
       "      <td>1</td>\n",
       "      <td>0</td>\n",
       "      <td>0</td>\n",
       "    </tr>\n",
       "  </tbody>\n",
       "</table>\n",
       "</div>"
      ],
      "text/plain": [
       "   Normalized Time (-)  U/Uinf (-)    V/Uinf (-)    W/Uinf (-)  Ufs/Uinf (-)  \\\n",
       "0             0.000000    0.000288  3.685064e-09 -2.268072e-09             1   \n",
       "1             0.041611   -0.004127 -1.330602e-09  1.217035e-09             1   \n",
       "2             0.083221   -0.007950  1.282547e-09  5.536929e-10             1   \n",
       "3             0.124832   -0.012012  4.207945e-10  3.674458e-10             1   \n",
       "4             0.166442   -0.016445  6.160830e-10  5.428379e-10             1   \n",
       "\n",
       "   Vfs/Uinf (-)  Wfs/Uinf (-)  \n",
       "0             0             0  \n",
       "1             0             0  \n",
       "2             0             0  \n",
       "3             0             0  \n",
       "4             0             0  "
      ]
     },
     "execution_count": 37,
     "metadata": {},
     "output_type": "execute_result"
    }
   ],
   "source": [
    "run.probes.get_probe_data_by_id(1).head()"
   ]
  },
  {
   "cell_type": "markdown",
   "metadata": {},
   "source": [
    "The velocity for any given probe can be plotted quickly by calling `plot_probe_data_by_id()`."
   ]
  },
  {
   "cell_type": "code",
   "execution_count": 38,
   "metadata": {
    "collapsed": false
   },
   "outputs": [
    {
     "data": {
      "image/png": "[encoded data removed]",
      "text/plain": [
       "<matplotlib.figure.Figure at 0x7fe0ae384dd0>"
      ]
     },
     "metadata": {},
     "output_type": "display_data"
    }
   ],
   "source": [
    "fig, ax = run.probes.plot_probe_data_by_id(0,timestep=False)"
   ]
  },
  {
   "cell_type": "markdown",
   "metadata": {},
   "source": [
    "## Accessing the input namelist"
   ]
  },
  {
   "cell_type": "markdown",
   "metadata": {},
   "source": [
    "The input file namelist can be accessed using the `namelist` instance attribute."
   ]
  },
  {
   "cell_type": "code",
   "execution_count": 39,
   "metadata": {
    "collapsed": false
   },
   "outputs": [
    {
     "data": {
      "text/plain": [
       "OrderedDict([('configinputs',\n",
       "              OrderedDict([('gpflag', 0),\n",
       "                           ('nr', 5),\n",
       "                           ('nti', 20),\n",
       "                           ('iut', 1),\n",
       "                           ('convrg', -1),\n",
       "                           ('ifc', 0),\n",
       "                           ('nric', 9),\n",
       "                           ('ntif', 30),\n",
       "                           ('iutf', 1),\n",
       "                           ('convrgf', 0.0001),\n",
       "                           ('ixterm', 0),\n",
       "                           ('xstop', 5)])),\n",
       "             ('caseinputs',\n",
       "              OrderedDict([('jbtitle', 'NREL 5 MW'),\n",
       "                           ('rho', 0.002378),\n",
       "                           ('vis', 3.739e-07),\n",
       "                           ('tempr', 60.0),\n",
       "                           ('slex', 0.0),\n",
       "                           ('hblref', 0.0),\n",
       "                           ('hag', 295.276),\n",
       "                           ('rpm', 12.1),\n",
       "                           ('ut', 7.55),\n",
       "                           ('geomfilepath', './NREL-5MW.geom'),\n",
       "                           ('nsect', 8),\n",
       "                           ('afdpath',\n",
       "                            ['./airfoils/Cylinder1.dat',\n",
       "                             './airfoils/Cylinder2.dat',\n",
       "                             './airfoils/DU40_A17.dat',\n",
       "                             './airfoils/DU35_A17.dat',\n",
       "                             './airfoils/DU30_A17.dat',\n",
       "                             './airfoils/DU25_A17.dat',\n",
       "                             './airfoils/DU21_A17.dat',\n",
       "                             './airfoils/NACA64_A17.dat'])])),\n",
       "             ('configoutputs',\n",
       "              OrderedDict([('diagoutflag', 1),\n",
       "                           ('output_elflag', 1),\n",
       "                           ('wakeelementoutflag', 1),\n",
       "                           ('wakegridoutflag', 1),\n",
       "                           ('probeflag', 1),\n",
       "                           ('probespecpath', './probes.dat')]))])"
      ]
     },
     "execution_count": 39,
     "metadata": {},
     "output_type": "execute_result"
    }
   ],
   "source": [
    "run.input.namelist"
   ]
  },
  {
   "cell_type": "markdown",
   "metadata": {},
   "source": [
    "This namelist can easily be modified and rewritten as a separate file (perhaps facilitating parametric studies of parameters)."
   ]
  },
  {
   "cell_type": "code",
   "execution_count": 40,
   "metadata": {
    "collapsed": false,
    "scrolled": true
   },
   "outputs": [],
   "source": [
    "run.input.namelist['configinputs']['nti'] = 30"
   ]
  },
  {
   "cell_type": "code",
   "execution_count": 41,
   "metadata": {
    "collapsed": false
   },
   "outputs": [],
   "source": [
    "import StringIO\n",
    "\n",
    "output = StringIO.StringIO()\n",
    "run.input.namelist.write(output)"
   ]
  },
  {
   "cell_type": "code",
   "execution_count": 42,
   "metadata": {
    "collapsed": false
   },
   "outputs": [
    {
     "name": "stdout",
     "output_type": "stream",
     "text": [
      "&configinputs\n",
      "    gpflag = 0\n",
      "    nr = 5\n",
      "    nti = 30\n",
      "    iut = 1\n",
      "    convrg = -1\n",
      "    ifc = 0\n",
      "    nric = 9\n",
      "    ntif = 30\n",
      "    iutf = 1\n",
      "    convrgf = 0.0001\n",
      "    ixterm = 0\n",
      "    xstop = 5\n",
      "/\n",
      "\n",
      "&caseinputs\n",
      "    jbtitle = 'NREL 5 MW'\n",
      "    rho = 0.002378\n",
      "    vis = 3.739e-07\n",
      "    tempr = 60.0\n",
      "    slex = 0.0\n",
      "    hblref = 0.0\n",
      "    hag = 295.276\n",
      "    rpm = 12.1\n",
      "    ut = 7.55\n",
      "    geomfilepath = './NREL-5MW.geom'\n",
      "    nsect = 8\n",
      "    afdpath = './airfoils/Cylinder1.dat', './airfoils/Cylinder2.dat', './airfoils/DU40_A17.dat',\n",
      "              './airfoils/DU35_A17.dat', './airfoils/DU30_A17.dat', './airfoils/DU25_A17.dat',\n",
      "              './airfoils/DU21_A17.dat', './airfoils/NACA64_A17.dat'\n",
      "/\n",
      "\n",
      "&configoutputs\n",
      "    diagoutflag = 1\n",
      "    output_elflag = 1\n",
      "    wakeelementoutflag = 1\n",
      "    wakegridoutflag = 1\n",
      "    probeflag = 1\n",
      "    probespecpath = './probes.dat'\n",
      "/\n",
      "\n"
     ]
    }
   ],
   "source": [
    "print output.getvalue()"
   ]
  }
 ],
 "metadata": {
  "hide_input": false,
  "kernelspec": {
   "display_name": "Python 2",
   "language": "python",
   "name": "python2"
  },
  "language_info": {
   "codemirror_mode": {
    "name": "ipython",
    "version": 2
   },
   "file_extension": ".py",
   "mimetype": "text/x-python",
   "name": "python",
   "nbconvert_exporter": "python",
   "pygments_lexer": "ipython2",
   "version": "2.7.10"
  }
 },
 "nbformat": 4,
 "nbformat_minor": 0
}
